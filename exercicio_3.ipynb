{
  "cells": [
    {
      "cell_type": "markdown",
      "metadata": {
        "id": "view-in-github",
        "colab_type": "text"
      },
      "source": [
        "<a href=\"https://colab.research.google.com/github/Angelo-Mascarenhas123/AT05_Funcoes/blob/main/exercicio_3.ipynb\" target=\"_parent\"><img src=\"https://colab.research.google.com/assets/colab-badge.svg\" alt=\"Open In Colab\"/></a>"
      ]
    },
    {
      "cell_type": "markdown",
      "source": [
        "# **exercicio 3**"
      ],
      "metadata": {
        "id": "t-xfqN1w4IwC"
      }
    },
    {
      "cell_type": "code",
      "source": [
        "import random\n",
        "import numpy as np"
      ],
      "metadata": {
        "id": "Mq0-ufiNJMXO"
      },
      "execution_count": 32,
      "outputs": []
    },
    {
      "cell_type": "code",
      "source": [
        "matriz_float = np.random.rand(5,10)\n",
        "matriz_int = np.random.randint(0,10,(8,4))"
      ],
      "metadata": {
        "id": "TO-Wf4MhJea3"
      },
      "execution_count": 33,
      "outputs": []
    },
    {
      "cell_type": "code",
      "source": [
        "print('MATRIZ FLOAT')\n",
        "print()\n",
        "print(matriz_float)\n",
        "print()\n",
        "print()\n",
        "print('MATRIZ INT')\n",
        "print()\n",
        "print(matriz_int)"
      ],
      "metadata": {
        "id": "WyYYS0vJNt8b",
        "outputId": "96742db7-8205-448b-93bb-95da55ece4a9",
        "colab": {
          "base_uri": "https://localhost:8080/"
        }
      },
      "execution_count": 38,
      "outputs": [
        {
          "output_type": "stream",
          "name": "stdout",
          "text": [
            "MATRIZ FLOAT\n",
            "\n",
            "[[0.76079509 0.59311781 0.04324859 0.64591673 0.45156808 0.4086847\n",
            "  0.41104436 0.38624846 0.88548623 0.19647161]\n",
            " [0.24584956 0.01089506 0.22652846 0.71707728 0.22919368 0.29448797\n",
            "  0.01183192 0.18811985 0.62111489 0.04847708]\n",
            " [0.74602355 0.85546315 0.91578805 0.30024367 0.63232893 0.41671876\n",
            "  0.72573546 0.79101794 0.57937642 0.02776471]\n",
            " [0.8237762  0.97243408 0.73347719 0.48071714 0.36423019 0.08985971\n",
            "  0.40589852 0.52123295 0.72066286 0.79677187]\n",
            " [0.29092889 0.70311205 0.43200759 0.22850788 0.94011514 0.97671593\n",
            "  0.15010977 0.76876908 0.33652793 0.62130393]]\n",
            "\n",
            "\n",
            "MATRIZ INT\n",
            "\n",
            "[[3 5 8 7]\n",
            " [0 9 3 1]\n",
            " [3 4 5 9]\n",
            " [8 9 1 4]\n",
            " [9 4 8 8]\n",
            " [9 2 2 4]\n",
            " [1 1 5 4]\n",
            " [1 9 4 3]]\n"
          ]
        }
      ]
    }
  ],
  "metadata": {
    "colab": {
      "name": "Conheça o Colab",
      "provenance": [],
      "include_colab_link": true
    },
    "kernelspec": {
      "display_name": "Python 3",
      "name": "python3"
    }
  },
  "nbformat": 4,
  "nbformat_minor": 0
}