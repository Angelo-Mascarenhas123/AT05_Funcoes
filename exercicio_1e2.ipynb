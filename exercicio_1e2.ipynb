{
  "cells": [
    {
      "cell_type": "markdown",
      "metadata": {
        "id": "view-in-github",
        "colab_type": "text"
      },
      "source": [
        "<a href=\"https://colab.research.google.com/github/Angelo-Mascarenhas123/AT05_Funcoes/blob/main/exercicio_1e2.ipynb\" target=\"_parent\"><img src=\"https://colab.research.google.com/assets/colab-badge.svg\" alt=\"Open In Colab\"/></a>"
      ]
    },
    {
      "cell_type": "markdown",
      "source": [
        "# **exercicio 1**"
      ],
      "metadata": {
        "id": "t-xfqN1w4IwC"
      }
    },
    {
      "cell_type": "code",
      "source": [
        "def calcula_imc(peso=70, altura=1.75):\n",
        "  return peso / (altura**2)\n"
      ],
      "metadata": {
        "id": "NrFm1_EmyJCS"
      },
      "execution_count": 15,
      "outputs": []
    },
    {
      "cell_type": "code",
      "source": [
        "x = calcula_imc(peso, altura)\n",
        "x"
      ],
      "metadata": {
        "colab": {
          "base_uri": "https://localhost:8080/"
        },
        "id": "ivZ2mMtIzCkF",
        "outputId": "85c7eefd-111e-486d-d09e-cfd52170f2ba"
      },
      "execution_count": 31,
      "outputs": [
        {
          "output_type": "stream",
          "name": "stdout",
          "text": [
            "22.857142857142858\n"
          ]
        }
      ]
    },
    {
      "cell_type": "markdown",
      "source": [
        "# **exercicio 2**"
      ],
      "metadata": {
        "id": "cI9htko74bIJ"
      }
    },
    {
      "cell_type": "code",
      "source": [
        "alturas = [45, 23, 67, 12, 11, 89, 23, 41, 50, 62, 78, 34, 56, 19, 72,\n",
        "           88, 11, 90, 39, 65, 76, 27, 48, 59, 81, 14, 11, 93, 3, 68,\n",
        "           29, 52, 74, 16, 85, 20, 55, 38, 69, 11, 83, 7, 44, 61, 18,\n",
        "           96, 22, 58, 31, 71, 40, 53, 87, 31]"
      ],
      "metadata": {
        "id": "Ui7Z6GzH3gVf"
      },
      "execution_count": null,
      "outputs": []
    },
    {
      "cell_type": "code",
      "source": [
        "# funçoes do python\n",
        "print('maior valor: ',max(alturas))\n",
        "print('menor valor: ',min(alturas))\n",
        "print('soma: ',sum(alturas))\n",
        "print('valor absoluto: ',abs(-25))\n",
        "print('arredondamento: ',round(3.14159, 2))"
      ],
      "metadata": {
        "colab": {
          "base_uri": "https://localhost:8080/"
        },
        "id": "JBjlEnxq4iEl",
        "outputId": "b0f1863c-dc4f-41ff-f575-8ba19325b342"
      },
      "execution_count": 27,
      "outputs": [
        {
          "output_type": "stream",
          "name": "stdout",
          "text": [
            "maior valor:  96\n",
            "menor valor:  3\n",
            "soma:  2606\n",
            "valor absoluto:  25\n",
            "arredondamento:  3.14\n"
          ]
        }
      ]
    },
    {
      "cell_type": "code",
      "source": [
        "# funçoes statistics\n",
        "from statistics import *\n",
        "\n",
        "print('media: ',mean(alturas))\n",
        "print('mediana: ',median(alturas))\n",
        "print('moda: ',mode(alturas))\n",
        "print('variancia: ',variance(alturas))\n",
        "print('desvio padrao: ',stdev(alturas))"
      ],
      "metadata": {
        "colab": {
          "base_uri": "https://localhost:8080/"
        },
        "id": "93WkH0sm8ZNv",
        "outputId": "ea535ce1-168d-4e42-b35e-bdbca56e568c"
      },
      "execution_count": 30,
      "outputs": [
        {
          "output_type": "stream",
          "name": "stdout",
          "text": [
            "media:  48.25925925925926\n",
            "mediana:  49.0\n",
            "moda:  11\n",
            "variancia:  741.1013277428372\n",
            "desvio padrao:  27.223176297831913\n"
          ]
        }
      ]
    }
  ],
  "metadata": {
    "colab": {
      "name": "Conheça o Colab",
      "provenance": [],
      "include_colab_link": true
    },
    "kernelspec": {
      "display_name": "Python 3",
      "name": "python3"
    }
  },
  "nbformat": 4,
  "nbformat_minor": 0
}